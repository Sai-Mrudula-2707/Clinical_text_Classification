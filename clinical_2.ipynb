{
 "cells": [
  {
   "cell_type": "code",
   "execution_count": null,
   "metadata": {
    "collapsed": true
   },
   "outputs": [],
   "source": [
    "import pandas as pd\n",
    "\n",
    "# Load the dataset from CSV\n",
    "data = pd.read_csv(\"mtsamples.csv\")\n",
    "\n",
    "# Display the first few rows of the dataset\n",
    "print(data.head())\n"
   ]
  },
  {
   "cell_type": "code",
   "execution_count": null,
   "outputs": [],
   "source": [
    "def preprocess_text(text):\n",
    "    # Check if the text is not NaN (missing value)\n",
    "    if isinstance(text, str):\n",
    "        # Lowercase the text\n",
    "        text = text.lower()\n",
    "\n",
    "        # Remove non-alphabetic characters\n",
    "        text = re.sub(r\"[^a-zA-Z]\", \" \", text)\n",
    "\n",
    "        # Tokenize the text\n",
    "        tokens = text.split()\n",
    "\n",
    "        # Remove stopwords\n",
    "        stop_words = set(stopwords.words(\"english\"))\n",
    "        tokens = [word for word in tokens if word not in stop_words]\n",
    "\n",
    "        # Lemmatize the tokens\n",
    "        lemmatizer = WordNetLemmatizer()\n",
    "        tokens = [lemmatizer.lemmatize(word) for word in tokens]\n",
    "\n",
    "        # Join the preprocessed tokens\n",
    "        preprocessed_text = \" \".join(tokens)\n",
    "\n",
    "        return preprocessed_text\n",
    "    else:\n",
    "        return \"\"\n",
    "\n",
    "# Apply preprocessing to the 'transcription' column\n",
    "data[\"preprocessed_transcription\"] = data[\"transcription\"].apply(preprocess_text)\n",
    "\n",
    "# Display the preprocessed text\n",
    "print(data[\"preprocessed_transcription\"].head())"
   ],
   "metadata": {
    "collapsed": false
   }
  },
  {
   "cell_type": "code",
   "execution_count": null,
   "outputs": [],
   "source": [
    "from sklearn.feature_extraction.text import TfidfVectorizer\n",
    "\n",
    "# Initialize the TF-IDF vectorizer\n",
    "vectorizer = TfidfVectorizer()\n",
    "\n",
    "# Fit and transform the preprocessed text\n",
    "tfidf_matrix = vectorizer.fit_transform(data[\"preprocessed_transcription\"])\n",
    "\n",
    "# Convert the TF-IDF matrix to a DataFrame\n",
    "tfidf_df = pd.DataFrame(tfidf_matrix.toarray(), columns=vectorizer.get_feature_names_out())\n",
    "\n",
    "# Display the TF-IDF matrix\n",
    "print(tfidf_df.head())\n",
    "\n"
   ],
   "metadata": {
    "collapsed": false
   }
  },
  {
   "cell_type": "code",
   "execution_count": null,
   "outputs": [],
   "source": [
    "from sklearn.model_selection import train_test_split\n",
    "from sklearn.svm import SVC\n",
    "from sklearn.metrics import classification_report\n",
    "\n",
    "# Split the dataset into training and testing sets\n",
    "X_train, X_test, y_train, y_test = train_test_split(tfidf_df, data[\"medical_specialty\"], test_size=0.2, random_state=42)\n",
    "\n",
    "# Initialize the SVM classifier\n",
    "svm = SVC(kernel=\"linear\")\n",
    "\n",
    "# Train the classifier\n",
    "svm.fit(X_train, y_train)\n",
    "\n",
    "# Predict the labels for the test set\n",
    "y_pred = svm.predict(X_test)\n",
    "\n",
    "# Evaluate the classifier\n",
    "report = classification_report(y_test, y_pred,zero_division=1)\n",
    "print(report)\n"
   ],
   "metadata": {
    "collapsed": false
   }
  },
  {
   "cell_type": "markdown",
   "source": [
    "# Find the best model"
   ],
   "metadata": {
    "collapsed": false
   }
  },
  {
   "cell_type": "code",
   "execution_count": null,
   "outputs": [],
   "source": [
    "from sklearn.model_selection import train_test_split\n",
    "from sklearn.svm import SVC\n",
    "from sklearn.naive_bayes import MultinomialNB\n",
    "from sklearn.ensemble import RandomForestClassifier\n",
    "from sklearn.metrics import classification_report\n",
    "\n",
    "# Split the dataset into training and testing sets\n",
    "X_train, X_test, y_train, y_test = train_test_split(tfidf_df, data[\"medical_specialty\"], test_size=0.2, random_state=42)\n",
    "\n",
    "# Initialize and train multiple classifiers\n",
    "classifiers = {\n",
    "    \"SVM\": SVC(kernel=\"linear\"),\n",
    "    \"Naive Bayes\": MultinomialNB(),\n",
    "    \"Random Forest\": RandomForestClassifier()\n",
    "}\n",
    "\n",
    "results = {}  # Dictionary to store classification results\n",
    "\n",
    "for name, classifier in classifiers.items():\n",
    "    # Train the classifier\n",
    "    classifier.fit(X_train, y_train)\n",
    "\n",
    "    # Predict the labels for the test set\n",
    "    y_pred = classifier.predict(X_test)\n",
    "\n",
    "    # Evaluate the classifier\n",
    "    report = classification_report(y_test, y_pred, output_dict=True)\n",
    "\n",
    "    # Store the classification results\n",
    "    results[name] = report\n",
    "\n",
    "# Compare and select the best classifier based on a chosen evaluation metric\n",
    "best_classifier = None\n",
    "best_metric_value = 0.0\n",
    "\n",
    "for name, result in results.items():\n",
    "    metric_value = result['accuracy']  # Choose the evaluation metric (e.g., accuracy)\n",
    "\n",
    "    if metric_value > best_metric_value:\n",
    "        best_metric_value = metric_value\n",
    "        best_classifier = name\n",
    "\n",
    "# Print the results and the best classifier\n",
    "for name, result in results.items():\n",
    "    print(f\"Classifier: {name}\")\n",
    "    print(classification_report(y_test, y_pred))\n",
    "    print()\n",
    "\n",
    "print(f\"Best Classifier: {best_classifier}\")\n"
   ],
   "metadata": {
    "collapsed": false
   }
  },
  {
   "cell_type": "code",
   "execution_count": null,
   "outputs": [],
   "source": [],
   "metadata": {
    "collapsed": false
   }
  }
 ],
 "metadata": {
  "kernelspec": {
   "display_name": "Python 3",
   "language": "python",
   "name": "python3"
  },
  "language_info": {
   "codemirror_mode": {
    "name": "ipython",
    "version": 2
   },
   "file_extension": ".py",
   "mimetype": "text/x-python",
   "name": "python",
   "nbconvert_exporter": "python",
   "pygments_lexer": "ipython2",
   "version": "2.7.6"
  }
 },
 "nbformat": 4,
 "nbformat_minor": 0
}
