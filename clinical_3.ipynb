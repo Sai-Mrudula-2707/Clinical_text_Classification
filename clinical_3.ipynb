{
 "cells": [
  {
   "cell_type": "code",
   "execution_count": 9,
   "metadata": {
    "collapsed": true
   },
   "outputs": [],
   "source": [
    "import pandas as pd\n",
    "import numpy as np\n",
    "from sklearn.model_selection import train_test_split, GridSearchCV\n",
    "from sklearn.feature_extraction.text import TfidfVectorizer\n",
    "from sklearn.metrics import classification_report\n",
    "from sklearn.naive_bayes import MultinomialNB\n",
    "from sklearn.svm import SVC"
   ]
  },
  {
   "cell_type": "code",
   "execution_count": 17,
   "outputs": [],
   "source": [
    "# Step 1: Data Preprocessing\n",
    "data = pd.read_csv('mtsamples.csv')\n",
    "data = data[['transcription', 'medical_specialty', 'sample_name']]\n",
    "data.dropna(inplace=True)\n",
    "\n",
    "X = data['transcription']\n",
    "y_subspecialty = data['medical_specialty']\n",
    "y_class_label = data['sample_name']"
   ],
   "metadata": {
    "collapsed": false
   }
  },
  {
   "cell_type": "code",
   "execution_count": 18,
   "outputs": [],
   "source": [
    "# Split the data into training and testing sets\n",
    "X_train, X_test, y_train_subspecialty, y_test_subspecialty, y_train_class_label, y_test_class_label = train_test_split(\n",
    "    X, y_subspecialty, y_class_label, test_size=0.3, random_state=40\n",
    ")\n"
   ],
   "metadata": {
    "collapsed": false
   }
  },
  {
   "cell_type": "code",
   "execution_count": 19,
   "outputs": [
    {
     "name": "stdout",
     "output_type": "stream",
     "text": [
      "1013                    Coarctation of Aorta \n",
      "434      Phacoemulsification Of Cataract - 2 \n",
      "460                        Pelvic Laparotomy \n",
      "120                              HPV Consult \n",
      "1498                       Ultrasound OB - 1 \n",
      "                        ...                  \n",
      "3556          Esophagogastroduodenoscopy - 4 \n",
      "2318               Arthroscopy Shoulder/Knee \n",
      "567             Lymph Node Excisional Biopsy \n",
      "3732               Nasolabial Fold Elevation \n",
      "1542         Nuclear Medicine Lymphatic Scan \n",
      "Name: sample_name, Length: 1490, dtype: object\n"
     ]
    }
   ],
   "source": [
    "print(y_test_class_label)"
   ],
   "metadata": {
    "collapsed": false
   }
  },
  {
   "cell_type": "code",
   "execution_count": 20,
   "outputs": [],
   "source": [
    "# Step 2: Feature Extraction\n",
    "vectorizer = TfidfVectorizer()\n",
    "X_train_vectorized = vectorizer.fit_transform(X_train)\n",
    "X_test_vectorized = vectorizer.transform(X_test)"
   ],
   "metadata": {
    "collapsed": false
   }
  },
  {
   "cell_type": "code",
   "execution_count": 21,
   "outputs": [
    {
     "data": {
      "text/plain": "GridSearchCV(cv=5, estimator=MultinomialNB(),\n             param_grid={'alpha': [0.1, 0.5, 1.0]})",
      "text/html": "<style>#sk-container-id-3 {color: black;background-color: white;}#sk-container-id-3 pre{padding: 0;}#sk-container-id-3 div.sk-toggleable {background-color: white;}#sk-container-id-3 label.sk-toggleable__label {cursor: pointer;display: block;width: 100%;margin-bottom: 0;padding: 0.3em;box-sizing: border-box;text-align: center;}#sk-container-id-3 label.sk-toggleable__label-arrow:before {content: \"▸\";float: left;margin-right: 0.25em;color: #696969;}#sk-container-id-3 label.sk-toggleable__label-arrow:hover:before {color: black;}#sk-container-id-3 div.sk-estimator:hover label.sk-toggleable__label-arrow:before {color: black;}#sk-container-id-3 div.sk-toggleable__content {max-height: 0;max-width: 0;overflow: hidden;text-align: left;background-color: #f0f8ff;}#sk-container-id-3 div.sk-toggleable__content pre {margin: 0.2em;color: black;border-radius: 0.25em;background-color: #f0f8ff;}#sk-container-id-3 input.sk-toggleable__control:checked~div.sk-toggleable__content {max-height: 200px;max-width: 100%;overflow: auto;}#sk-container-id-3 input.sk-toggleable__control:checked~label.sk-toggleable__label-arrow:before {content: \"▾\";}#sk-container-id-3 div.sk-estimator input.sk-toggleable__control:checked~label.sk-toggleable__label {background-color: #d4ebff;}#sk-container-id-3 div.sk-label input.sk-toggleable__control:checked~label.sk-toggleable__label {background-color: #d4ebff;}#sk-container-id-3 input.sk-hidden--visually {border: 0;clip: rect(1px 1px 1px 1px);clip: rect(1px, 1px, 1px, 1px);height: 1px;margin: -1px;overflow: hidden;padding: 0;position: absolute;width: 1px;}#sk-container-id-3 div.sk-estimator {font-family: monospace;background-color: #f0f8ff;border: 1px dotted black;border-radius: 0.25em;box-sizing: border-box;margin-bottom: 0.5em;}#sk-container-id-3 div.sk-estimator:hover {background-color: #d4ebff;}#sk-container-id-3 div.sk-parallel-item::after {content: \"\";width: 100%;border-bottom: 1px solid gray;flex-grow: 1;}#sk-container-id-3 div.sk-label:hover label.sk-toggleable__label {background-color: #d4ebff;}#sk-container-id-3 div.sk-serial::before {content: \"\";position: absolute;border-left: 1px solid gray;box-sizing: border-box;top: 0;bottom: 0;left: 50%;z-index: 0;}#sk-container-id-3 div.sk-serial {display: flex;flex-direction: column;align-items: center;background-color: white;padding-right: 0.2em;padding-left: 0.2em;position: relative;}#sk-container-id-3 div.sk-item {position: relative;z-index: 1;}#sk-container-id-3 div.sk-parallel {display: flex;align-items: stretch;justify-content: center;background-color: white;position: relative;}#sk-container-id-3 div.sk-item::before, #sk-container-id-3 div.sk-parallel-item::before {content: \"\";position: absolute;border-left: 1px solid gray;box-sizing: border-box;top: 0;bottom: 0;left: 50%;z-index: -1;}#sk-container-id-3 div.sk-parallel-item {display: flex;flex-direction: column;z-index: 1;position: relative;background-color: white;}#sk-container-id-3 div.sk-parallel-item:first-child::after {align-self: flex-end;width: 50%;}#sk-container-id-3 div.sk-parallel-item:last-child::after {align-self: flex-start;width: 50%;}#sk-container-id-3 div.sk-parallel-item:only-child::after {width: 0;}#sk-container-id-3 div.sk-dashed-wrapped {border: 1px dashed gray;margin: 0 0.4em 0.5em 0.4em;box-sizing: border-box;padding-bottom: 0.4em;background-color: white;}#sk-container-id-3 div.sk-label label {font-family: monospace;font-weight: bold;display: inline-block;line-height: 1.2em;}#sk-container-id-3 div.sk-label-container {text-align: center;}#sk-container-id-3 div.sk-container {/* jupyter's `normalize.less` sets `[hidden] { display: none; }` but bootstrap.min.css set `[hidden] { display: none !important; }` so we also need the `!important` here to be able to override the default hidden behavior on the sphinx rendered scikit-learn.org. See: https://github.com/scikit-learn/scikit-learn/issues/21755 */display: inline-block !important;position: relative;}#sk-container-id-3 div.sk-text-repr-fallback {display: none;}</style><div id=\"sk-container-id-3\" class=\"sk-top-container\"><div class=\"sk-text-repr-fallback\"><pre>GridSearchCV(cv=5, estimator=MultinomialNB(),\n             param_grid={&#x27;alpha&#x27;: [0.1, 0.5, 1.0]})</pre><b>In a Jupyter environment, please rerun this cell to show the HTML representation or trust the notebook. <br />On GitHub, the HTML representation is unable to render, please try loading this page with nbviewer.org.</b></div><div class=\"sk-container\" hidden><div class=\"sk-item sk-dashed-wrapped\"><div class=\"sk-label-container\"><div class=\"sk-label sk-toggleable\"><input class=\"sk-toggleable__control sk-hidden--visually\" id=\"sk-estimator-id-7\" type=\"checkbox\" ><label for=\"sk-estimator-id-7\" class=\"sk-toggleable__label sk-toggleable__label-arrow\">GridSearchCV</label><div class=\"sk-toggleable__content\"><pre>GridSearchCV(cv=5, estimator=MultinomialNB(),\n             param_grid={&#x27;alpha&#x27;: [0.1, 0.5, 1.0]})</pre></div></div></div><div class=\"sk-parallel\"><div class=\"sk-parallel-item\"><div class=\"sk-item\"><div class=\"sk-label-container\"><div class=\"sk-label sk-toggleable\"><input class=\"sk-toggleable__control sk-hidden--visually\" id=\"sk-estimator-id-8\" type=\"checkbox\" ><label for=\"sk-estimator-id-8\" class=\"sk-toggleable__label sk-toggleable__label-arrow\">estimator: MultinomialNB</label><div class=\"sk-toggleable__content\"><pre>MultinomialNB()</pre></div></div></div><div class=\"sk-serial\"><div class=\"sk-item\"><div class=\"sk-estimator sk-toggleable\"><input class=\"sk-toggleable__control sk-hidden--visually\" id=\"sk-estimator-id-9\" type=\"checkbox\" ><label for=\"sk-estimator-id-9\" class=\"sk-toggleable__label sk-toggleable__label-arrow\">MultinomialNB</label><div class=\"sk-toggleable__content\"><pre>MultinomialNB()</pre></div></div></div></div></div></div></div></div></div></div>"
     },
     "execution_count": 21,
     "metadata": {},
     "output_type": "execute_result"
    }
   ],
   "source": [
    "# Model Selection and Fine-tuning\n",
    "# For Subspecialty of Medicine Classification\n",
    "\n",
    "# Model Selection using Multinomial Naive Bayes\n",
    "nb_model = MultinomialNB()\n",
    "nb_param_grid = {'alpha': [0.1, 0.5, 1.0]}\n",
    "nb_grid_search = GridSearchCV(nb_model, nb_param_grid, cv=5)\n",
    "nb_grid_search.fit(X_train_vectorized, y_train_subspecialty)"
   ],
   "metadata": {
    "collapsed": false
   }
  },
  {
   "cell_type": "code",
   "execution_count": 22,
   "outputs": [],
   "source": [
    "# Get the best model and its evaluation results\n",
    "best_nb_model = nb_grid_search.best_estimator_\n",
    "best_nb_model.fit(X_train_vectorized, y_train_subspecialty)\n",
    "y_pred_subspecialty_nb = best_nb_model.predict(X_test_vectorized)\n",
    "report_subspecialty_nb = classification_report(y_test_subspecialty, y_pred_subspecialty_nb, zero_division=0)"
   ],
   "metadata": {
    "collapsed": false
   }
  },
  {
   "cell_type": "code",
   "execution_count": 23,
   "outputs": [
    {
     "name": "stdout",
     "output_type": "stream",
     "text": [
      "Subspecialty of Medicine Classification Report using Multinomial Naive Bayes:\n",
      "                                precision    recall  f1-score   support\n",
      "\n",
      "          Allergy / Immunology       0.00      0.00      0.00         2\n",
      "                       Autopsy       0.00      0.00      0.00         1\n",
      "                    Bariatrics       0.00      0.00      0.00         8\n",
      "    Cardiovascular / Pulmonary       0.53      0.15      0.23       123\n",
      "                  Chiropractic       0.00      0.00      0.00         6\n",
      "    Consult - History and Phy.       0.24      0.99      0.38       147\n",
      "    Cosmetic / Plastic Surgery       0.00      0.00      0.00         8\n",
      "                     Dentistry       0.00      0.00      0.00        10\n",
      "                   Dermatology       0.00      0.00      0.00         8\n",
      "          Diets and Nutritions       0.00      0.00      0.00         3\n",
      "             Discharge Summary       0.00      0.00      0.00        39\n",
      "          ENT - Otolaryngology       0.00      0.00      0.00        30\n",
      "        Emergency Room Reports       0.00      0.00      0.00        23\n",
      "                 Endocrinology       0.00      0.00      0.00         4\n",
      "              Gastroenterology       0.00      0.00      0.00        63\n",
      "              General Medicine       0.00      0.00      0.00        87\n",
      "         Hematology - Oncology       0.00      0.00      0.00        24\n",
      "     Hospice - Palliative Care       0.00      0.00      0.00         1\n",
      "        IME-QME-Work Comp etc.       0.00      0.00      0.00         4\n",
      "      Lab Medicine - Pathology       0.00      0.00      0.00         1\n",
      "                       Letters       0.00      0.00      0.00         5\n",
      "                    Nephrology       0.00      0.00      0.00        30\n",
      "                     Neurology       0.11      0.01      0.02        74\n",
      "                  Neurosurgery       0.00      0.00      0.00        35\n",
      "       Obstetrics / Gynecology       0.00      0.00      0.00        45\n",
      "                  Office Notes       0.00      0.00      0.00        14\n",
      "                 Ophthalmology       0.00      0.00      0.00        18\n",
      "                    Orthopedic       0.23      0.05      0.08        99\n",
      "               Pain Management       0.00      0.00      0.00        19\n",
      "         Pediatrics - Neonatal       0.00      0.00      0.00        23\n",
      "     Physical Medicine - Rehab       0.00      0.00      0.00         5\n",
      "                      Podiatry       0.00      0.00      0.00        12\n",
      "       Psychiatry / Psychology       0.00      0.00      0.00         7\n",
      "                     Radiology       0.25      0.04      0.06        85\n",
      "                  Rheumatology       0.00      0.00      0.00         2\n",
      " SOAP / Chart / Progress Notes       0.00      0.00      0.00        44\n",
      "                Sleep Medicine       0.00      0.00      0.00        11\n",
      "             Speech - Language       0.00      0.00      0.00         2\n",
      "                       Surgery       0.40      0.99      0.57       321\n",
      "                       Urology       0.00      0.00      0.00        47\n",
      "\n",
      "                      accuracy                           0.33      1490\n",
      "                     macro avg       0.04      0.06      0.03      1490\n",
      "                  weighted avg       0.19      0.33      0.19      1490\n",
      "\n"
     ]
    }
   ],
   "source": [
    "print(\"Subspecialty of Medicine Classification Report using Multinomial Naive Bayes:\")\n",
    "print(report_subspecialty_nb)"
   ],
   "metadata": {
    "collapsed": false
   }
  },
  {
   "cell_type": "code",
   "execution_count": null,
   "outputs": [],
   "source": [],
   "metadata": {
    "collapsed": false
   }
  }
 ],
 "metadata": {
  "kernelspec": {
   "display_name": "Python 3",
   "language": "python",
   "name": "python3"
  },
  "language_info": {
   "codemirror_mode": {
    "name": "ipython",
    "version": 2
   },
   "file_extension": ".py",
   "mimetype": "text/x-python",
   "name": "python",
   "nbconvert_exporter": "python",
   "pygments_lexer": "ipython2",
   "version": "2.7.6"
  }
 },
 "nbformat": 4,
 "nbformat_minor": 0
}
